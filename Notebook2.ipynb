{
 "cells": [
  {
   "cell_type": "code",
   "execution_count": null,
   "id": "8f79ad41",
   "metadata": {},
   "outputs": [],
   "source": [
    "secret = 1\n",
    "guess = 5\n",
    "\n",
    "if guess < secret:\n",
    "    print(\"Too low\")\n",
    "elif guess > secret:\n",
    "    print(\"Too high\")\n",
    "else:\n",
    "    print(guess \"equals\" secret, \"Just right\")\n",
    "secret = 1\n",
    "guess = 5\n",
    "​\n",
    "if guess < secret:\n",
    "    print(\"Too low\")\n",
    "elif guess > secret:\n",
    "    print(\"Too high\")\n",
    "else:\n",
    "    print(guess \"equals\" secret, \"Just right\")\n",
    "small = True\n",
    "    green = True\n",
    "    if small:\n",
    "        if green:\n",
    "            print(\"It's a pea\")\n",
    "            else:\n",
    "            print(\"It's not a pea it's a pie cherry\")\n",
    "    else:\n",
    "        if green:\n",
    "            print(\"It's a largehead watermelon\")\n",
    "        else:\n",
    "            print(\"It's a spinderally pumpkin\")\n",
    "                \n",
    "for x in range (3, -1):\n",
    "    print x\n",
    "guess_me = 7\n",
    "number = 1\n",
    "​\n",
    "while True:\n",
    "    if number < guess_me:\n",
    "        print(\"Nope, too low\")\n",
    "    elif number == guess_me:\n",
    "        print(\"Ahh Haa, Found it\")\n",
    "        break\n",
    "    else:\n",
    "        print(\"Look, it's greater than\")\n",
    "        number += 1"
   ]
  }
 ],
 "metadata": {
  "kernelspec": {
   "display_name": "Python 3 (ipykernel)",
   "language": "python",
   "name": "python3"
  },
  "language_info": {
   "codemirror_mode": {
    "name": "ipython",
    "version": 3
   },
   "file_extension": ".py",
   "mimetype": "text/x-python",
   "name": "python",
   "nbconvert_exporter": "python",
   "pygments_lexer": "ipython3",
   "version": "3.9.13"
  }
 },
 "nbformat": 4,
 "nbformat_minor": 5
}
